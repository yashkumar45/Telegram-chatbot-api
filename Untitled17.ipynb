{
  "nbformat": 4,
  "nbformat_minor": 0,
  "metadata": {
    "colab": {
      "name": "Untitled17.ipynb",
      "provenance": []
    },
    "kernelspec": {
      "name": "python3",
      "display_name": "Python 3"
    }
  },
  "cells": [
    {
      "cell_type": "code",
      "metadata": {
        "id": "sFqIOOw1-lHk",
        "colab_type": "code",
        "outputId": "63d7eba3-6744-4970-dda2-7aee8566d281",
        "colab": {
          "base_uri": "https://localhost:8080/",
          "height": 190
        }
      },
      "source": [
        "# -*- coding: UTF8 -*-\n",
        "import requests\n",
        "import datetime\n",
        "class BotHandler:\n",
        "    def __init__(self, token):\n",
        "            self.token = token\n",
        "            self.api_url = \"https://api.telegram.org/bot{}/\".format(token)\n",
        "\n",
        "    #url = \"https://api.telegram.org/bot<token>/\"\n",
        "\n",
        "    def get_updates(self, offset=0, timeout=30):\n",
        "        method = 'getUpdates'\n",
        "        params = {'timeout': timeout, 'offset': offset}\n",
        "        resp = requests.get(self.api_url + method, params)\n",
        "        result_json = resp.json()['result']\n",
        "        return result_json\n",
        "\n",
        "    def send_message(self, chat_id, text):\n",
        "        params = {'chat_id': chat_id, 'text': text, 'parse_mode': 'HTML'}\n",
        "        method = 'sendMessage'\n",
        "        resp = requests.post(self.api_url + method, params)\n",
        "        return resp\n",
        "\n",
        "    def get_first_update(self):\n",
        "        get_result = self.get_updates()\n",
        "\n",
        "        if len(get_result) > 0:\n",
        "            last_update = get_result[0]\n",
        "        else:\n",
        "            last_update = None\n",
        "\n",
        "        return last_update\n",
        "\n",
        "\n",
        "token = '1157664160:AAHiKwEEQtLTVTk67muxUK7FnxCq0u4pGXQ' #Token of your bot\n",
        "magnito_bot = BotHandler(token) #Your bot's name\n",
        "\n",
        "\n",
        "\n",
        "def main():\n",
        "    new_offset = 0\n",
        "    print('hi, now launching...')\n",
        "\n",
        "    while True:\n",
        "        all_updates=magnito_bot.get_updates(new_offset)\n",
        "\n",
        "        if len(all_updates) > 0:\n",
        "            for current_update in all_updates:\n",
        "                print(current_update)\n",
        "                first_update_id = current_update['update_id']\n",
        "                if 'text' not in current_update['message']:\n",
        "                    first_chat_text='New member'\n",
        "                else:\n",
        "                    first_chat_text = current_update['message']['text']\n",
        "                first_chat_id = current_update['message']['chat']['id']\n",
        "                if 'first_name' in current_update['message']:\n",
        "                    first_chat_name = current_update['message']['chat']['first_name']\n",
        "                elif 'new_chat_member' in current_update['message']:\n",
        "                    first_chat_name = current_update['message']['new_chat_member']['username']\n",
        "                elif 'from' in current_update['message']:\n",
        "                    first_chat_name = current_update['message']['from']['first_name']\n",
        "                else:\n",
        "                    first_chat_name = \"unknown\"\n",
        "\n",
        "                if first_chat_text == 'Hi':\n",
        "                    magnito_bot.send_message(first_chat_id, 'Morning ' + first_chat_name)\n",
        "                    new_offset = first_update_id + 1\n",
        "                if first_chat_text == 'suggest me some movies':\n",
        "                    magnito_bot.send_message(first_chat_id, 'www.imdb.com')\n",
        "                    new_offset = first_update_id + 1\n",
        "                if first_chat_text == 'are u an ai':\n",
        "                    magnito_bot.send_message(first_chat_id, 'yes i am ' + first_chat_name)\n",
        "                    new_offset = first_update_id + 1\n",
        "                if first_chat_text == 'what are your hobbies':\n",
        "                    magnito_bot.send_message(first_chat_id, 'i have the same hobbies as' + first_chat_name)\n",
        "                    new_offset = first_update_id + 1\n",
        "                if first_chat_text == 'tell me the time':\n",
        "                    magnito_bot.send_message(first_chat_id, 'Its late midnight sir')\n",
        "                    new_offset = first_update_id + 1\n",
        "                if first_chat_text == 'tell me the day':\n",
        "                    magnito_bot.send_message(first_chat_id, 'its wednesday ')\n",
        "                    new_offset = first_update_id + 1\n",
        "                if first_chat_text == 'tell me the month':\n",
        "                    magnito_bot.send_message(first_chat_id, 'april')\n",
        "                    new_offset = first_update_id + 1\n",
        "                else:\n",
        "                    magnito_bot.send_message(first_chat_id, 'How are you doing '+first_chat_name)\n",
        "                    new_offset = first_update_id + 1\n",
        "\n",
        "\n",
        "if __name__ == '__main__':\n",
        "    try:\n",
        "        main()\n",
        "    except KeyboardInterrupt:\n",
        "        exit()"
      ],
      "execution_count": 0,
      "outputs": [
        {
          "output_type": "stream",
          "text": [
            "hi, now launching...\n",
            "{'update_id': 391387735, 'message': {'message_id': 55, 'from': {'id': 825878578, 'is_bot': False, 'first_name': 'Yash', 'last_name': 'Kumar', 'language_code': 'en'}, 'chat': {'id': 825878578, 'first_name': 'Yash', 'last_name': 'Kumar', 'type': 'private'}, 'date': 1587493499, 'text': 'tell me the time'}}\n",
            "{'update_id': 391387736, 'message': {'message_id': 57, 'from': {'id': 825878578, 'is_bot': False, 'first_name': 'Yash', 'last_name': 'Kumar', 'language_code': 'en'}, 'chat': {'id': 825878578, 'first_name': 'Yash', 'last_name': 'Kumar', 'type': 'private'}, 'date': 1587493514, 'text': 'tell me the day'}}\n",
            "{'update_id': 391387737, 'message': {'message_id': 60, 'from': {'id': 825878578, 'is_bot': False, 'first_name': 'Yash', 'last_name': 'Kumar', 'language_code': 'en'}, 'chat': {'id': 825878578, 'first_name': 'Yash', 'last_name': 'Kumar', 'type': 'private'}, 'date': 1587493556, 'text': 'tell me the month'}}\n",
            "{'update_id': 391387738, 'message': {'message_id': 62, 'from': {'id': 825878578, 'is_bot': False, 'first_name': 'Yash', 'last_name': 'Kumar', 'language_code': 'en'}, 'chat': {'id': 825878578, 'first_name': 'Yash', 'last_name': 'Kumar', 'type': 'private'}, 'date': 1587493587, 'text': 'tell me the time'}}\n",
            "{'update_id': 391387739, 'message': {'message_id': 64, 'from': {'id': 825878578, 'is_bot': False, 'first_name': 'Yash', 'last_name': 'Kumar', 'language_code': 'en'}, 'chat': {'id': 825878578, 'first_name': 'Yash', 'last_name': 'Kumar', 'type': 'private'}, 'date': 1587493621, 'text': 'tell me the time'}}\n",
            "{'update_id': 391387740, 'message': {'message_id': 66, 'from': {'id': 825878578, 'is_bot': False, 'first_name': 'Yash', 'last_name': 'Kumar', 'language_code': 'en'}, 'chat': {'id': 825878578, 'first_name': 'Yash', 'last_name': 'Kumar', 'type': 'private'}, 'date': 1587499153, 'text': 'Hey'}}\n",
            "{'update_id': 391387741, 'message': {'message_id': 68, 'from': {'id': 825878578, 'is_bot': False, 'first_name': 'Yash', 'last_name': 'Kumar', 'language_code': 'en'}, 'chat': {'id': 825878578, 'first_name': 'Yash', 'last_name': 'Kumar', 'type': 'private'}, 'date': 1587499433, 'text': 'suggest me some movies'}}\n",
            "{'update_id': 391387742, 'message': {'message_id': 70, 'from': {'id': 825878578, 'is_bot': False, 'first_name': 'Yash', 'last_name': 'Kumar', 'language_code': 'en'}, 'chat': {'id': 825878578, 'first_name': 'Yash', 'last_name': 'Kumar', 'type': 'private'}, 'date': 1587499455, 'text': 'suggest me some movies'}}\n"
          ],
          "name": "stdout"
        }
      ]
    },
    {
      "cell_type": "code",
      "metadata": {
        "id": "TLhenR0n-5qL",
        "colab_type": "code",
        "colab": {}
      },
      "source": [
        ""
      ],
      "execution_count": 0,
      "outputs": []
    },
    {
      "cell_type": "code",
      "metadata": {
        "id": "drt39-XL-m-G",
        "colab_type": "code",
        "colab": {}
      },
      "source": [
        ""
      ],
      "execution_count": 0,
      "outputs": []
    }
  ]
}